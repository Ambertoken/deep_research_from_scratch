{
 "cells": [
  {
   "cell_type": "code",
   "execution_count": 1,
   "id": "97042b1c",
   "metadata": {},
   "outputs": [],
   "source": [
    "# Load environment variables and set up auto-reload\n",
    "from dotenv import load_dotenv\n",
    "load_dotenv()\n",
    "\n",
    "%load_ext autoreload\n",
    "%autoreload 2"
   ]
  },
  {
   "cell_type": "code",
   "execution_count": null,
   "id": "e870b189",
   "metadata": {},
   "outputs": [],
   "source": [
    "from langchain_core.messages import HumanMessage\n",
    "from langgraph.graph import StateGraph, START, END\n",
    "\n",
    "from jh_src.utils import get_today_str\n",
    "from jh_src.prompts import claude_generated_supervisor_agent\n",
    "\n",
    "\n",
    "from langchain.chat_models import init_chat_model\n",
    "# writer_model = init_chat_model(model=\"openai:gpt-4.1\", max_tokens=32000) # model=\"anthropic:claude-sonnet-4-20250514\", max_tokens=64000\n",
    "writer_model = init_chat_model(model=\"anthropic:claude-sonnet-4-20250514\", max_tokens=64000) \n",
    "\n",
    "from deep_research_from_scratch.state_scope import AgentState"
   ]
  }
 ],
 "metadata": {
  "kernelspec": {
   "display_name": "deep-research",
   "language": "python",
   "name": "python3"
  },
  "language_info": {
   "codemirror_mode": {
    "name": "ipython",
    "version": 3
   },
   "file_extension": ".py",
   "mimetype": "text/x-python",
   "name": "python",
   "nbconvert_exporter": "python",
   "pygments_lexer": "ipython3",
   "version": "3.12.11"
  }
 },
 "nbformat": 4,
 "nbformat_minor": 5
}
